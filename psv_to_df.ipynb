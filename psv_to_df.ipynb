{
  "nbformat": 4,
  "nbformat_minor": 2,
  "metadata": {
    "colab": {
      "name": "psv_to_df.ipynb",
      "provenance": [],
      "authorship_tag": "ABX9TyMWyH5zkeNwbA08ZOsGl4Gm",
      "include_colab_link": true
    },
    "kernelspec": {
      "name": "python3",
      "display_name": "Python 3"
    },
    "language_info": {
      "name": "python"
    }
  },
  "cells": [
    {
      "cell_type": "code",
      "execution_count": null,
      "source": [
        "import pandas as pd\n",
        "import pdb\n",
        "import numpy as np\n",
        "import glob"
      ],
      "outputs": [],
      "metadata": {
        "id": "xFBOlVI_gASq"
      }
    },
    {
      "cell_type": "code",
      "execution_count": null,
      "source": [
        "#get a list of all the files\n",
        "files1 = glob.glob('training_setA/*.psv')\n",
        "files2 = glob.glob('training_setB/*.psv')\n",
        "files = np.concatenate((files1, files2))\n",
        "\n",
        "df_list = []\n",
        "for ind, f in enumerate(files):\n",
        "    patient_id = f.split('/')[1].split('.')[0]\n",
        "    df = pd.read_csv(f, sep='|')\n",
        "    df = df.assign(patient=patient_id)\n",
        "\n",
        "    #redefine the labels to be 1 for t >= t_sepsis\n",
        "    #in other words, a label of 1 now means that sepsis has occurred in this window\n",
        "    #in practice, what this means is set the first six 1 labels to 0\n",
        "    df.loc[df[df['SepsisLabel'] == 1].head(6).index.values, 'SepsisLabel'] = 1\n",
        "    \n",
        "    #print a status update\n",
        "    if ind % 1000 == 0:\n",
        "        print(ind)\n",
        "    \n",
        "    #append the current parsed file to the list \n",
        "    df_list.append(df)\n",
        "\n",
        "\n",
        "#save all the loaded files into a pickle file\n",
        "df = pd.concat(df_list)\n",
        "df = df.reset_index(drop=True)\n",
        "df.to_pickle('combined.pkl')"
      ],
      "outputs": [
        {
          "output_type": "stream",
          "name": "stdout",
          "text": [
            "0\n",
            "1000\n",
            "2000\n",
            "3000\n",
            "4000\n",
            "5000\n",
            "6000\n",
            "7000\n",
            "8000\n",
            "9000\n",
            "10000\n",
            "11000\n",
            "12000\n",
            "13000\n",
            "14000\n",
            "15000\n",
            "16000\n",
            "17000\n",
            "18000\n",
            "19000\n",
            "20000\n",
            "21000\n",
            "22000\n",
            "23000\n",
            "24000\n",
            "25000\n",
            "26000\n",
            "27000\n",
            "28000\n",
            "29000\n",
            "30000\n",
            "31000\n",
            "32000\n",
            "33000\n",
            "34000\n",
            "35000\n",
            "36000\n",
            "37000\n",
            "38000\n",
            "39000\n",
            "40000\n"
          ]
        }
      ],
      "metadata": {
        "colab": {
          "base_uri": "https://localhost:8080/"
        },
        "id": "lAPjb4iXgIEo",
        "outputId": "f7c24143-c87e-4cfb-bb73-5d164d8dc808"
      }
    },
    {
      "cell_type": "code",
      "execution_count": null,
      "source": [],
      "outputs": [],
      "metadata": {
        "id": "icwYE_Wdh-xf"
      }
    }
  ]
}